{
  "nbformat": 4,
  "nbformat_minor": 0,
  "metadata": {
    "colab": {
      "provenance": [],
      "include_colab_link": true
    },
    "kernelspec": {
      "name": "python3",
      "display_name": "Python 3"
    },
    "language_info": {
      "name": "python"
    }
  },
  "cells": [
    {
      "cell_type": "markdown",
      "metadata": {
        "id": "view-in-github",
        "colab_type": "text"
      },
      "source": [
        "<a href=\"https://colab.research.google.com/github/imaansh/Stock-Prediction-LSTM/blob/main/Apple_Prediction.ipynb\" target=\"_parent\"><img src=\"https://colab.research.google.com/assets/colab-badge.svg\" alt=\"Open In Colab\"/></a>"
      ]
    },
    {
      "cell_type": "code",
      "execution_count": null,
      "metadata": {
        "colab": {
          "base_uri": "https://localhost:8080/",
          "height": 971
        },
        "id": "wn5SwNUECNaO",
        "outputId": "ab413e72-5a7d-4cc5-d5cf-ed294f685365"
      },
      "outputs": [
        {
          "output_type": "stream",
          "name": "stdout",
          "text": [
            "Looking in indexes: https://pypi.org/simple, https://us-python.pkg.dev/colab-wheels/public/simple/\n",
            "Collecting yfinance\n",
            "  Downloading yfinance-0.2.4-py2.py3-none-any.whl (51 kB)\n",
            "\u001b[2K     \u001b[90m━━━━━━━━━━━━━━━━━━━━━━━━━━━━━━━━━━━━━━━━\u001b[0m \u001b[32m51.4/51.4 KB\u001b[0m \u001b[31m2.5 MB/s\u001b[0m eta \u001b[36m0:00:00\u001b[0m\n",
            "\u001b[?25hCollecting cryptography>=3.3.2\n",
            "  Downloading cryptography-39.0.0-cp36-abi3-manylinux_2_28_x86_64.whl (4.2 MB)\n",
            "\u001b[2K     \u001b[90m━━━━━━━━━━━━━━━━━━━━━━━━━━━━━━━━━━━━━━━━\u001b[0m \u001b[32m4.2/4.2 MB\u001b[0m \u001b[31m33.9 MB/s\u001b[0m eta \u001b[36m0:00:00\u001b[0m\n",
            "\u001b[?25hRequirement already satisfied: appdirs>=1.4.4 in /usr/local/lib/python3.8/dist-packages (from yfinance) (1.4.4)\n",
            "Collecting frozendict>=2.3.4\n",
            "  Downloading frozendict-2.3.4-cp38-cp38-manylinux_2_17_x86_64.manylinux2014_x86_64.whl (110 kB)\n",
            "\u001b[2K     \u001b[90m━━━━━━━━━━━━━━━━━━━━━━━━━━━━━━━━━━━━━━━\u001b[0m \u001b[32m111.0/111.0 KB\u001b[0m \u001b[31m7.3 MB/s\u001b[0m eta \u001b[36m0:00:00\u001b[0m\n",
            "\u001b[?25hRequirement already satisfied: numpy>=1.16.5 in /usr/local/lib/python3.8/dist-packages (from yfinance) (1.21.6)\n",
            "Requirement already satisfied: pandas>=1.3.0 in /usr/local/lib/python3.8/dist-packages (from yfinance) (1.3.5)\n",
            "Collecting beautifulsoup4>=4.11.1\n",
            "  Downloading beautifulsoup4-4.11.1-py3-none-any.whl (128 kB)\n",
            "\u001b[2K     \u001b[90m━━━━━━━━━━━━━━━━━━━━━━━━━━━━━━━━━━━━━━━\u001b[0m \u001b[32m128.2/128.2 KB\u001b[0m \u001b[31m8.2 MB/s\u001b[0m eta \u001b[36m0:00:00\u001b[0m\n",
            "\u001b[?25hCollecting html5lib>=1.1\n",
            "  Downloading html5lib-1.1-py2.py3-none-any.whl (112 kB)\n",
            "\u001b[2K     \u001b[90m━━━━━━━━━━━━━━━━━━━━━━━━━━━━━━━━━━━━━━\u001b[0m \u001b[32m112.2/112.2 KB\u001b[0m \u001b[31m10.0 MB/s\u001b[0m eta \u001b[36m0:00:00\u001b[0m\n",
            "\u001b[?25hRequirement already satisfied: pytz>=2022.5 in /usr/local/lib/python3.8/dist-packages (from yfinance) (2022.7)\n",
            "Collecting requests>=2.26\n",
            "  Downloading requests-2.28.2-py3-none-any.whl (62 kB)\n",
            "\u001b[2K     \u001b[90m━━━━━━━━━━━━━━━━━━━━━━━━━━━━━━━━━━━━━━━━\u001b[0m \u001b[32m62.8/62.8 KB\u001b[0m \u001b[31m3.7 MB/s\u001b[0m eta \u001b[36m0:00:00\u001b[0m\n",
            "\u001b[?25hRequirement already satisfied: multitasking>=0.0.7 in /usr/local/lib/python3.8/dist-packages (from yfinance) (0.0.11)\n",
            "Requirement already satisfied: lxml>=4.9.1 in /usr/local/lib/python3.8/dist-packages (from yfinance) (4.9.2)\n",
            "Collecting soupsieve>1.2\n",
            "  Downloading soupsieve-2.3.2.post1-py3-none-any.whl (37 kB)\n",
            "Requirement already satisfied: cffi>=1.12 in /usr/local/lib/python3.8/dist-packages (from cryptography>=3.3.2->yfinance) (1.15.1)\n",
            "Requirement already satisfied: webencodings in /usr/local/lib/python3.8/dist-packages (from html5lib>=1.1->yfinance) (0.5.1)\n",
            "Requirement already satisfied: six>=1.9 in /usr/local/lib/python3.8/dist-packages (from html5lib>=1.1->yfinance) (1.15.0)\n",
            "Requirement already satisfied: python-dateutil>=2.7.3 in /usr/local/lib/python3.8/dist-packages (from pandas>=1.3.0->yfinance) (2.8.2)\n",
            "Requirement already satisfied: certifi>=2017.4.17 in /usr/local/lib/python3.8/dist-packages (from requests>=2.26->yfinance) (2022.12.7)\n",
            "Requirement already satisfied: urllib3<1.27,>=1.21.1 in /usr/local/lib/python3.8/dist-packages (from requests>=2.26->yfinance) (1.24.3)\n",
            "Requirement already satisfied: charset-normalizer<4,>=2 in /usr/local/lib/python3.8/dist-packages (from requests>=2.26->yfinance) (2.1.1)\n",
            "Requirement already satisfied: idna<4,>=2.5 in /usr/local/lib/python3.8/dist-packages (from requests>=2.26->yfinance) (2.10)\n",
            "Requirement already satisfied: pycparser in /usr/local/lib/python3.8/dist-packages (from cffi>=1.12->cryptography>=3.3.2->yfinance) (2.21)\n",
            "Installing collected packages: soupsieve, requests, html5lib, frozendict, cryptography, beautifulsoup4, yfinance\n",
            "  Attempting uninstall: requests\n",
            "    Found existing installation: requests 2.25.1\n",
            "    Uninstalling requests-2.25.1:\n",
            "      Successfully uninstalled requests-2.25.1\n",
            "  Attempting uninstall: html5lib\n",
            "    Found existing installation: html5lib 1.0.1\n",
            "    Uninstalling html5lib-1.0.1:\n",
            "      Successfully uninstalled html5lib-1.0.1\n",
            "  Attempting uninstall: beautifulsoup4\n",
            "    Found existing installation: beautifulsoup4 4.6.3\n",
            "    Uninstalling beautifulsoup4-4.6.3:\n",
            "      Successfully uninstalled beautifulsoup4-4.6.3\n",
            "Successfully installed beautifulsoup4-4.11.1 cryptography-39.0.0 frozendict-2.3.4 html5lib-1.1 requests-2.28.2 soupsieve-2.3.2.post1 yfinance-0.2.4\n"
          ]
        },
        {
          "output_type": "display_data",
          "data": {
            "application/vnd.colab-display-data+json": {
              "pip_warning": {
                "packages": [
                  "requests"
                ]
              }
            }
          },
          "metadata": {}
        }
      ],
      "source": [
        "import pandas_datareader as web\n",
        "import pandas as pd\n",
        "import datetime as dt\n",
        "!pip install yfinance\n"
      ]
    },
    {
      "cell_type": "code",
      "source": [
        "import matplotlib.pyplot as plt\n",
        "import math\n",
        "from sklearn.preprocessing import MinMaxScaler\n",
        "import numpy as np\n",
        "import tensorflow as tf\n",
        "from tensorflow.keras.models import Sequential\n",
        "from tensorflow.keras.layers import Dense,Dropout,LSTM"
      ],
      "metadata": {
        "id": "EtAH0HBhD_n0"
      },
      "execution_count": null,
      "outputs": []
    },
    {
      "cell_type": "code",
      "source": [
        "import yfinance as yf"
      ],
      "metadata": {
        "id": "0Iym_bZjECrf"
      },
      "execution_count": null,
      "outputs": []
    },
    {
      "cell_type": "code",
      "source": [
        "e  = ['AAPL','AMZN']\n",
        "Apple_data =yf.download(tickers= e[0],period='5y')\n",
        "Amazon_data = yf.download(tickers=e[1],period = '5y')"
      ],
      "metadata": {
        "colab": {
          "base_uri": "https://localhost:8080/"
        },
        "id": "yrIeBAEjEIP2",
        "outputId": "51349bca-c886-4e72-e90f-5c50d11d0258"
      },
      "execution_count": null,
      "outputs": [
        {
          "output_type": "stream",
          "name": "stdout",
          "text": [
            "[*********************100%***********************]  1 of 1 completed\n",
            "[*********************100%***********************]  1 of 1 completed\n"
          ]
        }
      ]
    },
    {
      "cell_type": "code",
      "source": [
        "plt.figure(1)\n",
        "plt.figure(figsize = (8,8))\n",
        "plt.title('Apple Close Price History')\n",
        "plt.plot(Apple_data['Close'])\n",
        "plt.xlabel('Date')\n",
        "plt.ylabel('Close price')\n",
        "plt.show"
      ],
      "metadata": {
        "colab": {
          "base_uri": "https://localhost:8080/",
          "height": 548
        },
        "id": "o9PLfl4wILZa",
        "outputId": "93ca9305-ce1d-47bb-dc40-f367a75a4676"
      },
      "execution_count": null,
      "outputs": [
        {
          "output_type": "execute_result",
          "data": {
            "text/plain": [
              "<function matplotlib.pyplot.show(*args, **kw)>"
            ]
          },
          "metadata": {},
          "execution_count": 15
        },
        {
          "output_type": "display_data",
          "data": {
            "text/plain": [
              "<Figure size 432x288 with 0 Axes>"
            ]
          },
          "metadata": {}
        },
        {
          "output_type": "display_data",
          "data": {
            "text/plain": [
              "<Figure size 576x576 with 1 Axes>"
            ],
            "image/png": "[encoded data removed]"
          },
          "metadata": {
            "needs_background": "light"
          }
        }
      ]
    },
    {
      "cell_type": "code",
      "source": [
        "data = Apple_data.filter(['Close'])\n",
        "data_set = data.values\n",
        "train_data_set_length = math.ceil(len(data_set)*0.8)"
      ],
      "metadata": {
        "id": "Q1K3KfVlENQY"
      },
      "execution_count": null,
      "outputs": []
    },
    {
      "cell_type": "code",
      "source": [
        "scaling = MinMaxScaler(feature_range = (0,1))\n",
        "scaled_data_set = scaling.fit_transform(data_set)\n",
        "scaled_data_set"
      ],
      "metadata": {
        "colab": {
          "base_uri": "https://localhost:8080/"
        },
        "id": "PNFl8ye4ERSD",
        "outputId": "136d5272-35cd-462b-c315-770f67635c2d"
      },
      "execution_count": null,
      "outputs": [
        {
          "output_type": "execute_result",
          "data": {
            "text/plain": [
              "array([[0.06191006],\n",
              "       [0.05941794],\n",
              "       [0.0594862 ],\n",
              "       ...,\n",
              "       [0.67739181],\n",
              "       [0.68544853],\n",
              "       [0.68046435]])"
            ]
          },
          "metadata": {},
          "execution_count": 5
        }
      ]
    },
    {
      "cell_type": "code",
      "source": [
        "training_data_set = scaled_data_set[0:train_data_set_length]\n",
        "X_train = []\n",
        "Y_train = []\n",
        "\n",
        "for i in range (60,len(training_data_set)):\n",
        "  X_train.append(training_data_set[i-60:i,0])\n",
        "  Y_train.append(training_data_set[i,0])\n"
      ],
      "metadata": {
        "id": "6aRKGvYgEVU1"
      },
      "execution_count": null,
      "outputs": []
    },
    {
      "cell_type": "code",
      "source": [
        " x_train = np.array(X_train)\n",
        " y_train = np.array(Y_train)\n",
        " x_train = np.reshape(x_train,(x_train.shape[0],x_train.shape[1],1))\n",
        " x_train.shape"
      ],
      "metadata": {
        "colab": {
          "base_uri": "https://localhost:8080/"
        },
        "id": "50LgyLc9EZLG",
        "outputId": "3394bedc-caeb-4fbf-f6b8-72411e255065"
      },
      "execution_count": null,
      "outputs": [
        {
          "output_type": "execute_result",
          "data": {
            "text/plain": [
              "(947, 60, 1)"
            ]
          },
          "metadata": {},
          "execution_count": 7
        }
      ]
    },
    {
      "cell_type": "code",
      "source": [
        "model= Sequential()\n",
        "\n",
        "# Adding first LSTM layer and some dropout Dropout regularisation\n",
        "model.add(LSTM(units=100,return_sequences=True, input_shape=(x_train.shape[1],1)))\n",
        "model.add(Dropout(rate=0.5))\n",
        "\n",
        "# Adding second LSTM layer and some dropout Dropout regularisation\n",
        "model.add(LSTM(units=100,return_sequences=True))\n",
        "model.add(Dropout(rate=0.5))\n",
        "\n",
        "# Adding third LSTM layer and some dropout Dropout regularisation\n",
        "model.add(LSTM(units=100,return_sequences=True))\n",
        "model.add(Dropout(rate=0.5))\n",
        "\n",
        "# Adding fifth LSTM layer and some dropout Dropout regularisation\n",
        "model.add(LSTM(units=100))\n",
        "model.add(Dropout(rate=0.2))\n",
        "\n",
        "# Adding the Output Layer\n",
        "model.add(Dense(units=1))"
      ],
      "metadata": {
        "id": "rLzNYuW3EdMC"
      },
      "execution_count": null,
      "outputs": []
    },
    {
      "cell_type": "code",
      "source": [
        "model.compile(loss='mean_squared_error',optimizer='adam')"
      ],
      "metadata": {
        "id": "E1NLH0pNEjxF"
      },
      "execution_count": null,
      "outputs": []
    },
    {
      "cell_type": "code",
      "source": [
        "history = model.fit(x_train,y_train,epochs=100,batch_size=32)"
      ],
      "metadata": {
        "colab": {
          "base_uri": "https://localhost:8080/"
        },
        "id": "JFfPQWM5EnIc",
        "outputId": "5bc8b7a8-9830-4837-8a67-2c188d9ec85f"
      },
      "execution_count": null,
      "outputs": [
        {
          "output_type": "stream",
          "name": "stdout",
          "text": [
            "Epoch 1/100\n",
            "30/30 [==============================] - 13s 205ms/step - loss: 0.0262\n",
            "Epoch 2/100\n",
            "30/30 [==============================] - 6s 203ms/step - loss: 0.0037\n",
            "Epoch 3/100\n",
            "30/30 [==============================] - 6s 197ms/step - loss: 0.0039\n",
            "Epoch 4/100\n",
            "30/30 [==============================] - 6s 200ms/step - loss: 0.0032\n",
            "Epoch 5/100\n",
            "30/30 [==============================] - 6s 204ms/step - loss: 0.0037\n",
            "Epoch 6/100\n",
            "30/30 [==============================] - 7s 250ms/step - loss: 0.0037\n",
            "Epoch 7/100\n",
            "30/30 [==============================] - 6s 197ms/step - loss: 0.0029\n",
            "Epoch 8/100\n",
            "30/30 [==============================] - 7s 232ms/step - loss: 0.0030\n",
            "Epoch 9/100\n",
            "30/30 [==============================] - 6s 200ms/step - loss: 0.0026\n",
            "Epoch 10/100\n",
            "30/30 [==============================] - 6s 199ms/step - loss: 0.0029\n",
            "Epoch 11/100\n",
            "30/30 [==============================] - 6s 200ms/step - loss: 0.0025\n",
            "Epoch 12/100\n",
            "30/30 [==============================] - 6s 199ms/step - loss: 0.0025\n",
            "Epoch 13/100\n",
            "30/30 [==============================] - 6s 199ms/step - loss: 0.0030\n",
            "Epoch 14/100\n",
            "30/30 [==============================] - 6s 199ms/step - loss: 0.0022\n",
            "Epoch 15/100\n",
            "30/30 [==============================] - 6s 199ms/step - loss: 0.0027\n",
            "Epoch 16/100\n",
            "30/30 [==============================] - 6s 203ms/step - loss: 0.0026\n",
            "Epoch 17/100\n",
            "30/30 [==============================] - 6s 201ms/step - loss: 0.0027\n",
            "Epoch 18/100\n",
            "30/30 [==============================] - 6s 199ms/step - loss: 0.0022\n",
            "Epoch 19/100\n",
            "30/30 [==============================] - 6s 197ms/step - loss: 0.0021\n",
            "Epoch 20/100\n",
            "30/30 [==============================] - 6s 211ms/step - loss: 0.0020\n",
            "Epoch 21/100\n",
            "30/30 [==============================] - 7s 228ms/step - loss: 0.0027\n",
            "Epoch 22/100\n",
            "30/30 [==============================] - 6s 205ms/step - loss: 0.0021\n",
            "Epoch 23/100\n",
            "30/30 [==============================] - 6s 217ms/step - loss: 0.0021\n",
            "Epoch 24/100\n",
            "30/30 [==============================] - 7s 221ms/step - loss: 0.0019\n",
            "Epoch 25/100\n",
            "30/30 [==============================] - 6s 199ms/step - loss: 0.0019\n",
            "Epoch 26/100\n",
            "30/30 [==============================] - 6s 198ms/step - loss: 0.0018\n",
            "Epoch 27/100\n",
            "30/30 [==============================] - 6s 197ms/step - loss: 0.0018\n",
            "Epoch 28/100\n",
            "30/30 [==============================] - 6s 197ms/step - loss: 0.0018\n",
            "Epoch 29/100\n",
            "30/30 [==============================] - 6s 201ms/step - loss: 0.0020\n",
            "Epoch 30/100\n",
            "30/30 [==============================] - 6s 200ms/step - loss: 0.0026\n",
            "Epoch 31/100\n",
            "30/30 [==============================] - 6s 197ms/step - loss: 0.0019\n",
            "Epoch 32/100\n",
            "30/30 [==============================] - 6s 198ms/step - loss: 0.0017\n",
            "Epoch 33/100\n",
            "30/30 [==============================] - 6s 198ms/step - loss: 0.0018\n",
            "Epoch 34/100\n",
            "30/30 [==============================] - 6s 199ms/step - loss: 0.0016\n",
            "Epoch 35/100\n",
            "30/30 [==============================] - 6s 198ms/step - loss: 0.0017\n",
            "Epoch 36/100\n",
            "30/30 [==============================] - 6s 204ms/step - loss: 0.0019\n",
            "Epoch 37/100\n",
            "30/30 [==============================] - 6s 200ms/step - loss: 0.0019\n",
            "Epoch 38/100\n",
            "30/30 [==============================] - 6s 198ms/step - loss: 0.0018\n",
            "Epoch 39/100\n",
            "30/30 [==============================] - 6s 199ms/step - loss: 0.0016\n",
            "Epoch 40/100\n",
            "30/30 [==============================] - 6s 199ms/step - loss: 0.0019\n",
            "Epoch 41/100\n",
            "30/30 [==============================] - 6s 198ms/step - loss: 0.0022\n",
            "Epoch 42/100\n",
            "30/30 [==============================] - 6s 197ms/step - loss: 0.0017\n",
            "Epoch 43/100\n",
            "30/30 [==============================] - 6s 197ms/step - loss: 0.0018\n",
            "Epoch 44/100\n",
            "30/30 [==============================] - 6s 197ms/step - loss: 0.0016\n",
            "Epoch 45/100\n",
            "30/30 [==============================] - 6s 197ms/step - loss: 0.0016\n",
            "Epoch 46/100\n",
            "30/30 [==============================] - 6s 200ms/step - loss: 0.0016\n",
            "Epoch 47/100\n",
            "30/30 [==============================] - 6s 198ms/step - loss: 0.0017\n",
            "Epoch 48/100\n",
            "30/30 [==============================] - 7s 231ms/step - loss: 0.0018\n",
            "Epoch 49/100\n",
            "30/30 [==============================] - 6s 207ms/step - loss: 0.0016\n",
            "Epoch 50/100\n",
            "30/30 [==============================] - 6s 198ms/step - loss: 0.0016\n",
            "Epoch 51/100\n",
            "30/30 [==============================] - 6s 199ms/step - loss: 0.0017\n",
            "Epoch 52/100\n",
            "30/30 [==============================] - 6s 198ms/step - loss: 0.0019\n",
            "Epoch 53/100\n",
            "30/30 [==============================] - 6s 199ms/step - loss: 0.0016\n",
            "Epoch 54/100\n",
            "30/30 [==============================] - 6s 197ms/step - loss: 0.0017\n",
            "Epoch 55/100\n",
            "30/30 [==============================] - 6s 199ms/step - loss: 0.0014\n",
            "Epoch 56/100\n",
            "30/30 [==============================] - 6s 199ms/step - loss: 0.0016\n",
            "Epoch 57/100\n",
            "30/30 [==============================] - 6s 197ms/step - loss: 0.0016\n",
            "Epoch 58/100\n",
            "30/30 [==============================] - 6s 198ms/step - loss: 0.0016\n",
            "Epoch 59/100\n",
            "30/30 [==============================] - 6s 197ms/step - loss: 0.0014\n",
            "Epoch 60/100\n",
            "30/30 [==============================] - 6s 200ms/step - loss: 0.0018\n",
            "Epoch 61/100\n",
            "30/30 [==============================] - 6s 197ms/step - loss: 0.0016\n",
            "Epoch 62/100\n",
            "30/30 [==============================] - 6s 197ms/step - loss: 0.0016\n",
            "Epoch 63/100\n",
            "30/30 [==============================] - 6s 199ms/step - loss: 0.0016\n",
            "Epoch 64/100\n",
            "30/30 [==============================] - 6s 197ms/step - loss: 0.0016\n",
            "Epoch 65/100\n",
            "30/30 [==============================] - 6s 199ms/step - loss: 0.0016\n",
            "Epoch 66/100\n",
            "30/30 [==============================] - 6s 197ms/step - loss: 0.0016\n",
            "Epoch 67/100\n",
            "30/30 [==============================] - 6s 197ms/step - loss: 0.0016\n",
            "Epoch 68/100\n",
            "30/30 [==============================] - 6s 198ms/step - loss: 0.0021\n",
            "Epoch 69/100\n",
            "30/30 [==============================] - 6s 198ms/step - loss: 0.0018\n",
            "Epoch 70/100\n",
            "30/30 [==============================] - 6s 200ms/step - loss: 0.0014\n",
            "Epoch 71/100\n",
            "30/30 [==============================] - 6s 199ms/step - loss: 0.0014\n",
            "Epoch 72/100\n",
            "30/30 [==============================] - 6s 199ms/step - loss: 0.0013\n",
            "Epoch 73/100\n",
            "30/30 [==============================] - 6s 199ms/step - loss: 0.0014\n",
            "Epoch 74/100\n",
            "30/30 [==============================] - 7s 243ms/step - loss: 0.0017\n",
            "Epoch 75/100\n",
            "30/30 [==============================] - 6s 197ms/step - loss: 0.0014\n",
            "Epoch 76/100\n",
            "30/30 [==============================] - 6s 199ms/step - loss: 0.0014\n",
            "Epoch 77/100\n",
            "30/30 [==============================] - 6s 197ms/step - loss: 0.0016\n",
            "Epoch 78/100\n",
            "30/30 [==============================] - 6s 197ms/step - loss: 0.0013\n",
            "Epoch 79/100\n",
            "30/30 [==============================] - 6s 197ms/step - loss: 0.0013\n",
            "Epoch 80/100\n",
            "30/30 [==============================] - 6s 199ms/step - loss: 0.0013\n",
            "Epoch 81/100\n",
            "30/30 [==============================] - 6s 199ms/step - loss: 0.0014\n",
            "Epoch 82/100\n",
            "30/30 [==============================] - 6s 197ms/step - loss: 0.0015\n",
            "Epoch 83/100\n",
            "30/30 [==============================] - 6s 198ms/step - loss: 0.0014\n",
            "Epoch 84/100\n",
            "30/30 [==============================] - 6s 199ms/step - loss: 0.0013\n",
            "Epoch 85/100\n",
            "30/30 [==============================] - 6s 198ms/step - loss: 0.0014\n",
            "Epoch 86/100\n",
            "30/30 [==============================] - 6s 199ms/step - loss: 0.0014\n",
            "Epoch 87/100\n",
            "30/30 [==============================] - 6s 197ms/step - loss: 0.0014\n",
            "Epoch 88/100\n",
            "30/30 [==============================] - 6s 199ms/step - loss: 0.0013\n",
            "Epoch 89/100\n",
            "30/30 [==============================] - 6s 198ms/step - loss: 0.0015\n",
            "Epoch 90/100\n",
            "30/30 [==============================] - 6s 198ms/step - loss: 0.0013\n",
            "Epoch 91/100\n",
            "30/30 [==============================] - 6s 198ms/step - loss: 0.0013\n",
            "Epoch 92/100\n",
            "30/30 [==============================] - 6s 198ms/step - loss: 0.0015\n",
            "Epoch 93/100\n",
            "30/30 [==============================] - 6s 198ms/step - loss: 0.0013\n",
            "Epoch 94/100\n",
            "30/30 [==============================] - 6s 199ms/step - loss: 0.0013\n",
            "Epoch 95/100\n",
            "30/30 [==============================] - 6s 198ms/step - loss: 0.0011\n",
            "Epoch 96/100\n",
            "30/30 [==============================] - 6s 197ms/step - loss: 0.0012\n",
            "Epoch 97/100\n",
            "30/30 [==============================] - 6s 196ms/step - loss: 0.0012\n",
            "Epoch 98/100\n",
            "30/30 [==============================] - 6s 198ms/step - loss: 0.0012\n",
            "Epoch 99/100\n",
            "30/30 [==============================] - 7s 243ms/step - loss: 0.0011\n",
            "Epoch 100/100\n",
            "30/30 [==============================] - 6s 198ms/step - loss: 0.0012\n"
          ]
        }
      ]
    },
    {
      "cell_type": "code",
      "source": [
        "test_data = scaled_data_set[train_data_set_length-60:,:]\n",
        "x_test = []\n",
        "y_test = data_set[train_data_set_length:,:]\n",
        "\n",
        "for i in range(60,len(test_data)):\n",
        "  x_test.append(test_data[i-60:i,0])\n"
      ],
      "metadata": {
        "id": "rfxShKs5EsYS"
      },
      "execution_count": null,
      "outputs": []
    },
    {
      "cell_type": "code",
      "source": [
        "X_test = np.array(x_test)\n",
        "X_test.shape\n",
        "X_test = np.reshape(X_test,(X_test.shape[0],X_test.shape[1],1))\n",
        "pred = model.predict(X_test)\n",
        "pred.shape\n",
        "pred = scaling.inverse_transform(pred)"
      ],
      "metadata": {
        "colab": {
          "base_uri": "https://localhost:8080/"
        },
        "id": "N1b7PzB4Ew8V",
        "outputId": "b6e87688-1781-4ed5-8e68-ce60fea7c03e"
      },
      "execution_count": null,
      "outputs": [
        {
          "output_type": "stream",
          "name": "stdout",
          "text": [
            "8/8 [==============================] - 2s 61ms/step\n"
          ]
        }
      ]
    },
    {
      "cell_type": "code",
      "source": [
        "rsme = np.sqrt(np.mean(pred-y_test)**2)\n",
        "rsme"
      ],
      "metadata": {
        "colab": {
          "base_uri": "https://localhost:8080/"
        },
        "id": "v1m08bsXE14z",
        "outputId": "dbd2c6d3-05bf-407b-c340-a0ba4d24d0ea"
      },
      "execution_count": null,
      "outputs": [
        {
          "output_type": "execute_result",
          "data": {
            "text/plain": [
              "0.8364255380820468"
            ]
          },
          "metadata": {},
          "execution_count": 14
        }
      ]
    },
    {
      "cell_type": "code",
      "source": [
        "plt.figure(figsize=(8,8))\n",
        "plt.plot(y_test,color='Red',label='Real Apple Stock Price')\n",
        "plt.plot(pred,color='Blue',label='Predicted Apple Stock Price')\n",
        "plt.title('Apple Stock Price Prediction')\n",
        "plt.xlabel('Time')\n",
        "plt.ylabel('Apple Stock Price')\n",
        "plt.legend()\n",
        "plt.show"
      ],
      "metadata": {
        "colab": {
          "base_uri": "https://localhost:8080/",
          "height": 530
        },
        "id": "oIGLKc0tIIzh",
        "outputId": "c0fb6428-63d6-417c-a924-b23ac60ad9bf"
      },
      "execution_count": null,
      "outputs": [
        {
          "output_type": "execute_result",
          "data": {
            "text/plain": [
              "<function matplotlib.pyplot.show(*args, **kw)>"
            ]
          },
          "metadata": {},
          "execution_count": 18
        },
        {
          "output_type": "display_data",
          "data": {
            "text/plain": [
              "<Figure size 576x576 with 1 Axes>"
            ],
            "image/png": "[encoded data removed]"
          },
          "metadata": {
            "needs_background": "light"
          }
        }
      ]
    }
  ]
}